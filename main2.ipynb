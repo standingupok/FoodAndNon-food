{
 "cells": [
  {
   "cell_type": "code",
   "execution_count": 11,
   "id": "e7ae072a-0535-4107-9680-a3983fbcae78",
   "metadata": {},
   "outputs": [],
   "source": [
    "import torch\n",
    "import torch.nn as nn\n",
    "import torchvision\n",
    "from torchvision import datasets, transforms, models\n",
    "from torchvision.models import VGG16_Weights\n",
    "import numpy as np\n",
    "import pandas as pd\n",
    "import matplotlib.pyplot as plt\n",
    "from datetime import datetime\n",
    "import sys, os\n",
    "from glob import glob\n",
    "import imageio"
   ]
  },
  {
   "cell_type": "code",
   "execution_count": 12,
   "id": "2598c81a-b9cf-43b9-832a-cfc69a35f264",
   "metadata": {},
   "outputs": [],
   "source": [
    "transform = transforms.Compose([\n",
    "    transforms.Resize(size=256),\n",
    "    transforms.CenterCrop(size=224),\n",
    "    transforms.ToTensor(),\n",
    "    transforms.Normalize([0.485, 0.456, 0.406], [0.229, 0.224, 0.225]),\n",
    "])"
   ]
  },
  {
   "cell_type": "code",
   "execution_count": 13,
   "id": "02b98f99-a432-4b6b-9f12-fa5d27201e39",
   "metadata": {},
   "outputs": [],
   "source": [
    "train_dataset = datasets.ImageFolder(\n",
    "    'data/training',\n",
    "    transform=transform\n",
    ")\n",
    "test_dataset = datasets.ImageFolder(\n",
    "    'data/validation',\n",
    "    transform=transform\n",
    ")"
   ]
  },
  {
   "cell_type": "code",
   "execution_count": 14,
   "id": "6160378e-a392-41ff-acbf-edcd0df72717",
   "metadata": {},
   "outputs": [],
   "source": [
    "batch_size = 128\n",
    "train_loader = torch.utils.data.DataLoader(\n",
    "    train_dataset,\n",
    "    batch_size=batch_size,\n",
    "    shuffle=True\n",
    ")\n",
    "\n",
    "test_loader = torch.utils.data.DataLoader(\n",
    "    test_dataset,\n",
    "    batch_size=batch_size\n",
    ")"
   ]
  },
  {
   "cell_type": "code",
   "execution_count": 15,
   "id": "eb5a63c8-80f7-4db7-80ce-41b4c780b673",
   "metadata": {},
   "outputs": [],
   "source": [
    "vgg = models.vgg16(weights=VGG16_Weights.DEFAULT)"
   ]
  },
  {
   "cell_type": "code",
   "execution_count": 16,
   "id": "6b2f02ea-76b5-4007-9f1c-edd65615fd29",
   "metadata": {},
   "outputs": [],
   "source": [
    "class VGG16Features(nn.Module):\n",
    "    def __init__(self, vgg):\n",
    "        super(VGG16Features, self).__init__()\n",
    "        self.vgg = vgg\n",
    "\n",
    "    def forward(self, X):\n",
    "        out = vgg.features(X)\n",
    "        out = vgg.avgpool(out)\n",
    "        out = out.view(out.size(0), -1)\n",
    "        return out"
   ]
  },
  {
   "cell_type": "code",
   "execution_count": 17,
   "id": "dab4d233-73d6-4296-881f-ee6c4613379c",
   "metadata": {},
   "outputs": [],
   "source": [
    "vggf = VGG16Features(vgg)"
   ]
  },
  {
   "cell_type": "code",
   "execution_count": 18,
   "id": "0e677f26-4ac2-4137-ac10-6926c3bb47e8",
   "metadata": {},
   "outputs": [
    {
     "data": {
      "text/plain": [
       "torch.Size([1, 25088])"
      ]
     },
     "execution_count": 18,
     "metadata": {},
     "output_type": "execute_result"
    }
   ],
   "source": [
    "out = vggf(torch.rand(1,3,224,224))\n",
    "out.shape"
   ]
  },
  {
   "cell_type": "code",
   "execution_count": 19,
   "id": "51a88cbd-bd3f-4b46-bdf0-e37f8c9f961b",
   "metadata": {},
   "outputs": [
    {
     "data": {
      "text/plain": [
       "(3000, 1000)"
      ]
     },
     "execution_count": 19,
     "metadata": {},
     "output_type": "execute_result"
    }
   ],
   "source": [
    "NTrain = len(train_dataset)\n",
    "NTest = len(test_dataset)\n",
    "NTrain, NTest"
   ]
  },
  {
   "cell_type": "code",
   "execution_count": 20,
   "id": "bf202ff6-3f2c-442e-98f0-538432d07b41",
   "metadata": {},
   "outputs": [],
   "source": [
    "D = out.shape[1]"
   ]
  },
  {
   "cell_type": "code",
   "execution_count": 21,
   "id": "5103f10a-5e36-4ec4-88fe-0984d5df40e7",
   "metadata": {},
   "outputs": [],
   "source": [
    "X_train = np.zeros((NTrain, D))\n",
    "y_train = np.zeros((NTrain, 1))\n",
    "X_test = np.zeros((NTest, D))\n",
    "y_test = np.zeros((NTest, 1))"
   ]
  },
  {
   "cell_type": "code",
   "execution_count": 22,
   "id": "a28e85a6-0fa2-4b12-9989-375464decda1",
   "metadata": {},
   "outputs": [
    {
     "data": {
      "text/plain": [
       "VGG16Features(\n",
       "  (vgg): VGG(\n",
       "    (features): Sequential(\n",
       "      (0): Conv2d(3, 64, kernel_size=(3, 3), stride=(1, 1), padding=(1, 1))\n",
       "      (1): ReLU(inplace=True)\n",
       "      (2): Conv2d(64, 64, kernel_size=(3, 3), stride=(1, 1), padding=(1, 1))\n",
       "      (3): ReLU(inplace=True)\n",
       "      (4): MaxPool2d(kernel_size=2, stride=2, padding=0, dilation=1, ceil_mode=False)\n",
       "      (5): Conv2d(64, 128, kernel_size=(3, 3), stride=(1, 1), padding=(1, 1))\n",
       "      (6): ReLU(inplace=True)\n",
       "      (7): Conv2d(128, 128, kernel_size=(3, 3), stride=(1, 1), padding=(1, 1))\n",
       "      (8): ReLU(inplace=True)\n",
       "      (9): MaxPool2d(kernel_size=2, stride=2, padding=0, dilation=1, ceil_mode=False)\n",
       "      (10): Conv2d(128, 256, kernel_size=(3, 3), stride=(1, 1), padding=(1, 1))\n",
       "      (11): ReLU(inplace=True)\n",
       "      (12): Conv2d(256, 256, kernel_size=(3, 3), stride=(1, 1), padding=(1, 1))\n",
       "      (13): ReLU(inplace=True)\n",
       "      (14): Conv2d(256, 256, kernel_size=(3, 3), stride=(1, 1), padding=(1, 1))\n",
       "      (15): ReLU(inplace=True)\n",
       "      (16): MaxPool2d(kernel_size=2, stride=2, padding=0, dilation=1, ceil_mode=False)\n",
       "      (17): Conv2d(256, 512, kernel_size=(3, 3), stride=(1, 1), padding=(1, 1))\n",
       "      (18): ReLU(inplace=True)\n",
       "      (19): Conv2d(512, 512, kernel_size=(3, 3), stride=(1, 1), padding=(1, 1))\n",
       "      (20): ReLU(inplace=True)\n",
       "      (21): Conv2d(512, 512, kernel_size=(3, 3), stride=(1, 1), padding=(1, 1))\n",
       "      (22): ReLU(inplace=True)\n",
       "      (23): MaxPool2d(kernel_size=2, stride=2, padding=0, dilation=1, ceil_mode=False)\n",
       "      (24): Conv2d(512, 512, kernel_size=(3, 3), stride=(1, 1), padding=(1, 1))\n",
       "      (25): ReLU(inplace=True)\n",
       "      (26): Conv2d(512, 512, kernel_size=(3, 3), stride=(1, 1), padding=(1, 1))\n",
       "      (27): ReLU(inplace=True)\n",
       "      (28): Conv2d(512, 512, kernel_size=(3, 3), stride=(1, 1), padding=(1, 1))\n",
       "      (29): ReLU(inplace=True)\n",
       "      (30): MaxPool2d(kernel_size=2, stride=2, padding=0, dilation=1, ceil_mode=False)\n",
       "    )\n",
       "    (avgpool): AdaptiveAvgPool2d(output_size=(7, 7))\n",
       "    (classifier): Sequential(\n",
       "      (0): Linear(in_features=25088, out_features=4096, bias=True)\n",
       "      (1): ReLU(inplace=True)\n",
       "      (2): Dropout(p=0.5, inplace=False)\n",
       "      (3): Linear(in_features=4096, out_features=4096, bias=True)\n",
       "      (4): ReLU(inplace=True)\n",
       "      (5): Dropout(p=0.5, inplace=False)\n",
       "      (6): Linear(in_features=4096, out_features=1000, bias=True)\n",
       "    )\n",
       "  )\n",
       ")"
      ]
     },
     "execution_count": 22,
     "metadata": {},
     "output_type": "execute_result"
    }
   ],
   "source": [
    "device = torch.device('cuda:0' if torch.cuda.is_available() else 'cpu')\n",
    "device\n",
    "vggf.to(device)"
   ]
  },
  {
   "cell_type": "code",
   "execution_count": 23,
   "id": "0541aa6a-5616-4629-bb61-65f994787432",
   "metadata": {},
   "outputs": [
    {
     "name": "stdout",
     "output_type": "stream",
     "text": [
      "128\n",
      "0:00:11.376758\n",
      "256\n",
      "0:00:10.164695\n",
      "384\n",
      "0:00:09.051458\n",
      "512\n",
      "0:00:09.062357\n",
      "640\n",
      "0:00:09.042219\n",
      "768\n",
      "0:00:09.063547\n",
      "896\n",
      "0:00:09.100396\n",
      "1024\n",
      "0:00:09.061365\n",
      "1152\n",
      "0:00:09.030192\n",
      "1280\n",
      "0:00:09.046648\n",
      "1408\n",
      "0:00:09.036640\n",
      "1536\n",
      "0:00:09.032140\n",
      "1664\n",
      "0:00:09.084263\n",
      "1792\n",
      "0:00:09.042750\n",
      "1920\n",
      "0:00:09.018027\n",
      "2048\n",
      "0:00:09.045670\n",
      "2176\n",
      "0:00:09.052524\n",
      "2304\n",
      "0:00:09.040832\n",
      "2432\n",
      "0:00:09.145055\n",
      "2560\n",
      "0:00:09.195011\n",
      "2688\n",
      "0:00:09.053525\n",
      "2816\n",
      "0:00:09.088580\n",
      "2944\n",
      "0:00:09.077084\n",
      "3000\n",
      "0:00:02.466666\n"
     ]
    }
   ],
   "source": [
    "# populate X_train and y_train\n",
    "i = 0\n",
    "with torch.no_grad():\n",
    "    for inputs, targets in train_loader:\n",
    "        # move data to gpu\n",
    "        t0 = datetime.now()\n",
    "        inputs = inputs.to(device)\n",
    "\n",
    "        # get outputs\n",
    "        output = vggf(inputs)\n",
    "\n",
    "        # size of batch\n",
    "        sz = len(output)\n",
    "\n",
    "        # assign to X_train and y_train\n",
    "        X_train[i:i + sz] = output.cpu().detach().numpy()\n",
    "        y_train[i:i + sz] = targets.view(-1, 1).numpy()\n",
    "\n",
    "        # increment i\n",
    "        i += sz\n",
    "        print(i)\n",
    "        t1 = datetime.now()\n",
    "        print(t1 - t0)"
   ]
  },
  {
   "cell_type": "code",
   "execution_count": 37,
   "id": "fcdad7d8-a283-4bd7-9961-8b12fc27a709",
   "metadata": {},
   "outputs": [
    {
     "name": "stdout",
     "output_type": "stream",
     "text": [
      "128\n",
      "0:00:09.373715\n",
      "256\n",
      "0:00:09.045140\n",
      "384\n",
      "0:00:09.051618\n",
      "512\n",
      "0:00:09.075218\n",
      "640\n",
      "0:00:09.177792\n",
      "768\n",
      "0:00:09.165259\n",
      "896\n",
      "0:00:09.259373\n",
      "1000\n",
      "0:00:08.577975\n"
     ]
    }
   ],
   "source": [
    "# populate X_train and y_train\n",
    "i = 0\n",
    "with torch.no_grad():\n",
    "    for inputs, targets in test_loader:\n",
    "        # move data to gpu\n",
    "        t0 = datetime.now()\n",
    "        inputs = inputs.to(device)\n",
    "\n",
    "        # get outputs\n",
    "        output = vggf(inputs)\n",
    "\n",
    "        # size of batch\n",
    "        sz = len(output)\n",
    "\n",
    "        # assign to X_train and y_train\n",
    "        X_test[i:i + sz] = output.cpu().detach().numpy()\n",
    "        y_test[i:i + sz] = targets.view(-1, 1).numpy()\n",
    "\n",
    "        # increment i\n",
    "        i += sz\n",
    "        print(i)\n",
    "        t1 = datetime.now()\n",
    "        print(t1 - t0)"
   ]
  },
  {
   "cell_type": "code",
   "execution_count": 40,
   "id": "209ae267-7bdb-4ea7-8c7e-78e8718abe1c",
   "metadata": {},
   "outputs": [
    {
     "data": {
      "text/plain": [
       "(61.944580078125, 0.0)"
      ]
     },
     "execution_count": 40,
     "metadata": {},
     "output_type": "execute_result"
    }
   ],
   "source": [
    "X_train.max(), X_train. min()"
   ]
  },
  {
   "cell_type": "code",
   "execution_count": 42,
   "id": "3f54168b-81ee-4ce0-ae4e-92a0eecacbdc",
   "metadata": {},
   "outputs": [],
   "source": [
    "from sklearn.preprocessing import StandardScaler\n",
    "scaler = StandardScaler()\n",
    "\n",
    "X_train2 = scaler.fit_transform(X_train)\n",
    "X_test2 = scaler.transform(X_test)"
   ]
  },
  {
   "cell_type": "code",
   "execution_count": 50,
   "id": "7ad3d317-9f2f-4229-8f48-5016ff3568c4",
   "metadata": {},
   "outputs": [
    {
     "name": "stdout",
     "output_type": "stream",
     "text": [
      "train score:  1.0\n",
      "test score:  0.982\n"
     ]
    }
   ],
   "source": [
    "from sklearn.linear_model import LogisticRegression\n",
    "logModel = LogisticRegression()\n",
    "logModel.fit(X_train2, y_train.flatten())\n",
    "print(f'train score: ', logModel.score(X_train2, y_train.flatten()))\n",
    "print(f'test score: ', logModel.score(X_test2, y_test.flatten()))"
   ]
  },
  {
   "cell_type": "code",
   "execution_count": 52,
   "id": "9936eca7-887b-40ef-bc0d-bf6898f9b126",
   "metadata": {},
   "outputs": [],
   "source": [
    "model = nn.Linear(D, 1)"
   ]
  },
  {
   "cell_type": "code",
   "execution_count": 54,
   "id": "7cbabe06-474c-40f1-a919-e78fae88812a",
   "metadata": {},
   "outputs": [
    {
     "data": {
      "text/plain": [
       "Linear(in_features=25088, out_features=1, bias=True)"
      ]
     },
     "execution_count": 54,
     "metadata": {},
     "output_type": "execute_result"
    }
   ],
   "source": [
    "device = torch.device('cuda:0' if torch.cuda.is_available() else 'cpu')\n",
    "model.to(device)"
   ]
  },
  {
   "cell_type": "code",
   "execution_count": 68,
   "id": "225cdbda-b746-44b6-a2e6-013349874ca8",
   "metadata": {},
   "outputs": [],
   "source": [
    "criterion = nn.BCEWithLogitsLoss()\n",
    "optimizer = torch.optim.Adam(model.parameters())"
   ]
  },
  {
   "cell_type": "code",
   "execution_count": 58,
   "id": "427532d0-3470-4b7b-8c76-7b838fb89e63",
   "metadata": {},
   "outputs": [],
   "source": [
    "# re create dataset - Move weight matrix to tensor\n",
    "train_dataset2 = torch.utils.data.TensorDataset(\n",
    "    torch.from_numpy(X_train2.astype(np.float32)),\n",
    "    torch.from_numpy(y_train.astype(np.float32))\n",
    ")\n",
    "\n",
    "test_dataset2 = torch.utils.data.TensorDataset(\n",
    "    torch.from_numpy(X_test2.astype(np.float32)),\n",
    "    torch.from_numpy(y_test.astype(np.float32))\n",
    ")"
   ]
  },
  {
   "cell_type": "code",
   "execution_count": 60,
   "id": "ebc2ad7b-6ac2-4418-a6e0-16010e84ffe7",
   "metadata": {},
   "outputs": [],
   "source": [
    "batch_size = 128\n",
    "train_loader2 = torch.utils.data.DataLoader(\n",
    "    train_dataset2,\n",
    "    batch_size=batch_size,\n",
    "    shuffle=True\n",
    ")\n",
    "\n",
    "test_loader2 = torch.utils.data.DataLoader(\n",
    "    test_dataset2,\n",
    "    batch_size=batch_size\n",
    ")"
   ]
  },
  {
   "cell_type": "code",
   "execution_count": 64,
   "id": "a843da6b-9bbe-4c3e-9e7d-fb7e93809d66",
   "metadata": {},
   "outputs": [],
   "source": [
    "def batch_grad(model, criterion, optimizer, train_loader, test_loader, epochs):\n",
    "    train_losses = np.zeros(epochs)\n",
    "    test_losses = np.zeros(epochs)\n",
    "\n",
    "    for it in range(epochs):\n",
    "        t0 = datetime.now()\n",
    "        train_loss = []\n",
    "        for inputs, targets in train_loader:\n",
    "            # Move data to device\n",
    "            inputs, targets = inputs.to(device), targets.to(device)\n",
    "\n",
    "            # Create initial theta\n",
    "            optimizer.zero_grad()\n",
    "\n",
    "            # Cal loss\n",
    "            outputs = model(inputs)\n",
    "            loss = criterion(outputs, targets)\n",
    "\n",
    "            # Backward and update theta\n",
    "            loss.backward()\n",
    "            optimizer.step()\n",
    "\n",
    "            # Append loss\n",
    "            train_loss.append(loss.item())\n",
    "            \n",
    "        train_loss = np.mean(train_loss)\n",
    "        train_losses[it] = train_loss\n",
    "\n",
    "        test_loss = []\n",
    "        for inputs, targets in test_loader:\n",
    "            inputs, targets = inputs.to(device), targets.to(device)\n",
    "            outputs = model(inputs)\n",
    "            loss = criterion(outputs, targets)\n",
    "            test_loss.append(loss.item())\n",
    "        test_loss = np.mean(test_loss)\n",
    "        test_losses[it] = test_loss\n",
    "\n",
    "        dt = datetime.now() - t0\n",
    "        print(f'Epoch {it + 1}/{epochs} Train loss: {train_loss:.4f} Test loss: {test_loss:.4f} Duration: {dt}')\n",
    "    return train_losses, test_losses"
   ]
  },
  {
   "cell_type": "code",
   "execution_count": 72,
   "id": "bdd14dba-8002-4bec-b709-f47d76c9c945",
   "metadata": {},
   "outputs": [
    {
     "name": "stdout",
     "output_type": "stream",
     "text": [
      "Epoch0/10 Train loss: 0.1076 Test loss: 0.0495 Duration: 0:00:00.605822\n",
      "Epoch1/10 Train loss: 0.0071 Test loss: 0.0502 Duration: 0:00:00.191248\n",
      "Epoch2/10 Train loss: 0.0014 Test loss: 0.0486 Duration: 0:00:00.217145\n",
      "Epoch3/10 Train loss: 0.0008 Test loss: 0.0480 Duration: 0:00:00.241184\n",
      "Epoch4/10 Train loss: 0.0006 Test loss: 0.0478 Duration: 0:00:00.182602\n",
      "Epoch5/10 Train loss: 0.0005 Test loss: 0.0477 Duration: 0:00:00.194246\n",
      "Epoch6/10 Train loss: 0.0004 Test loss: 0.0476 Duration: 0:00:00.245093\n",
      "Epoch7/10 Train loss: 0.0004 Test loss: 0.0475 Duration: 0:00:00.220573\n",
      "Epoch8/10 Train loss: 0.0003 Test loss: 0.0475 Duration: 0:00:00.275392\n",
      "Epoch9/10 Train loss: 0.0003 Test loss: 0.0475 Duration: 0:00:00.191243\n"
     ]
    }
   ],
   "source": [
    "train_losses, test_losses = batch_grad(model, criterion, optimizer, train_loader2, test_loader2, epochs=10)"
   ]
  },
  {
   "cell_type": "code",
   "execution_count": 75,
   "id": "bda77aaa-536a-44cd-82ce-7f291314ca8b",
   "metadata": {},
   "outputs": [
    {
     "data": {
      "image/png": "[encoded data removed]",
      "text/plain": [
       "<Figure size 640x480 with 1 Axes>"
      ]
     },
     "metadata": {},
     "output_type": "display_data"
    }
   ],
   "source": [
    "plt.plot(train_losses, label='train loss')\n",
    "plt.plot(test_losses, label='test loss')\n",
    "plt.legend();"
   ]
  },
  {
   "cell_type": "code",
   "execution_count": 82,
   "id": "60c82e70-ca41-4fd4-a123-d2d8e4457675",
   "metadata": {},
   "outputs": [
    {
     "name": "stdout",
     "output_type": "stream",
     "text": [
      "train acc: 1.0 test acc: 0.984\n"
     ]
    }
   ],
   "source": [
    "n_correct = 0.\n",
    "n_total = 0.\n",
    "for inputs, targets in train_loader2:\n",
    "    inputs, targets = inputs.to(device), targets.to(device)\n",
    "\n",
    "    outputs = model(inputs)\n",
    "\n",
    "    predictions = (outputs > 0)\n",
    "\n",
    "    n_correct += (predictions == targets).sum().item()\n",
    "    n_total += targets.shape[0]\n",
    "\n",
    "train_acc = n_correct / n_total\n",
    "\n",
    "n_correct = 0.\n",
    "n_total = 0.\n",
    "for inputs, targets in test_loader2:\n",
    "    inputs, targets = inputs.to(device), targets.to(device)\n",
    "\n",
    "    outputs = model(inputs)\n",
    "\n",
    "    predictions = (outputs > 0)\n",
    "\n",
    "    n_correct += (predictions == targets).sum().item()\n",
    "    n_total += targets.shape[0]\n",
    "\n",
    "test_acc = n_correct / n_total\n",
    "print(f'train acc: {train_acc} test acc: {test_acc}')"
   ]
  },
  {
   "cell_type": "code",
   "execution_count": null,
   "id": "da8bdd49-d96f-471c-b673-8cfc21cbd45c",
   "metadata": {},
   "outputs": [],
   "source": []
  }
 ],
 "metadata": {
  "kernelspec": {
   "display_name": "Python [conda env:base] *",
   "language": "python",
   "name": "conda-base-py"
  },
  "language_info": {
   "codemirror_mode": {
    "name": "ipython",
    "version": 3
   },
   "file_extension": ".py",
   "mimetype": "text/x-python",
   "name": "python",
   "nbconvert_exporter": "python",
   "pygments_lexer": "ipython3",
   "version": "3.12.7"
  }
 },
 "nbformat": 4,
 "nbformat_minor": 5
}
